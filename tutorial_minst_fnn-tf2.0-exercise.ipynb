{
 "cells": [
  {
   "cell_type": "markdown",
   "metadata": {},
   "source": [
    "## 准备数据"
   ]
  },
  {
   "cell_type": "code",
   "execution_count": 24,
   "metadata": {},
   "outputs": [],
   "source": [
    "import os\n",
    "import numpy as np\n",
    "import tensorflow as tf\n",
    "from tensorflow import keras\n",
    "from keras import layers, optimizers, datasets\n",
    "\n",
    "os.environ['TF_CPP_MIN_LOG_LEVEL'] = '2'  # or any {'0', '1', '2'}\n",
    "\n",
    "def mnist_dataset():\n",
    "    (x, y), (x_test, y_test) = datasets.mnist.load_data()\n",
    "    #normalize\n",
    "    x = x/255.0\n",
    "    x_test = x_test/255.0\n",
    "    \n",
    "    return (x, y), (x_test, y_test)"
   ]
  },
  {
   "cell_type": "code",
   "execution_count": 25,
   "metadata": {},
   "outputs": [
    {
     "name": "stdout",
     "output_type": "stream",
     "text": [
      "[(1, 'a'), (2, 'b'), (3, 'c'), (4, 'd')]\n",
      "(60000, 28, 28)\n",
      "(60000,)\n"
     ]
    }
   ],
   "source": [
    "print(list(zip([1, 2, 3, 4], ['a', 'b', 'c', 'd'])))\n",
    "x, y = mnist_dataset()\n",
    "print(x[0].shape)\n",
    "print(x[1].shape)"
   ]
  },
  {
   "cell_type": "markdown",
   "metadata": {},
   "source": [
    "## 建立模型"
   ]
  },
  {
   "cell_type": "code",
   "execution_count": 26,
   "metadata": {},
   "outputs": [
    {
     "name": "stderr",
     "output_type": "stream",
     "text": [
      "/root/autodl-tmp/nndl_exercise/.conda/lib/python3.9/site-packages/keras/src/layers/reshaping/flatten.py:37: UserWarning: Do not pass an `input_shape`/`input_dim` argument to a layer. When using Sequential models, prefer using an `Input(shape)` object as the first layer in the model instead.\n",
      "  super().__init__(**kwargs)\n"
     ]
    }
   ],
   "source": [
    "class myModel:\n",
    "    def __init__(self):\n",
    "        ####################\n",
    "        '''声明模型对应的参数'''\n",
    "        w, h = 28, 28\n",
    "        hidden_dim = 256\n",
    "        y_dim = 10\n",
    "        self.faltten = layers.Flatten(input_shape=(w, h))\n",
    "        self.W1 = tf.Variable(tf.random.normal([w*h, hidden_dim], stddev=0.01), trainable=True)\n",
    "        self.b1 = tf.Variable(tf.zeros([hidden_dim]), trainable=True)\n",
    "        self.W2 = tf.Variable(tf.random.normal([hidden_dim, y_dim], stddev=0.01), trainable=True)\n",
    "        self.b2 = tf.Variable(tf.zeros([y_dim]), trainable=True)\n",
    "        ####################\n",
    "    def __call__(self, x):\n",
    "        ####################\n",
    "        '''实现模型函数体，返回未归一化的logits'''\n",
    "        x_flat = self.faltten(x)\n",
    "        h1 = tf.matmul(x_flat, self.W1) + self.b1\n",
    "        a1 = tf.tanh(h1)\n",
    "        logits = tf.matmul(a1, self.W2) + self.b2        \n",
    "        ####################\n",
    "        return logits\n",
    "        \n",
    "model = myModel()\n",
    "\n",
    "optimizer = optimizers.Adam()"
   ]
  },
  {
   "cell_type": "markdown",
   "metadata": {},
   "source": [
    "## 计算 loss"
   ]
  },
  {
   "cell_type": "code",
   "execution_count": 27,
   "metadata": {},
   "outputs": [],
   "source": [
    "@tf.function\n",
    "def compute_loss(logits, labels):\n",
    "    return tf.reduce_mean(\n",
    "        tf.nn.sparse_softmax_cross_entropy_with_logits(\n",
    "            logits=logits, labels=labels))\n",
    "\n",
    "@tf.function\n",
    "def compute_accuracy(logits, labels):\n",
    "    predictions = tf.argmax(logits, axis=1)\n",
    "    return tf.reduce_mean(tf.cast(tf.equal(predictions, labels), tf.float32))\n",
    "\n",
    "@tf.function\n",
    "def train_one_step(model, optimizer, x, y):\n",
    "    with tf.GradientTape() as tape:\n",
    "        logits = model(x)\n",
    "        loss = compute_loss(logits, y)\n",
    "\n",
    "    # compute gradient\n",
    "    trainable_vars = [model.W1, model.W2, model.b1, model.b2]\n",
    "    grads = tape.gradient(loss, trainable_vars)\n",
    "    for g, v in zip(grads, trainable_vars):\n",
    "        v.assign_sub(0.01*g)\n",
    "\n",
    "    accuracy = compute_accuracy(logits, y)\n",
    "\n",
    "    # loss and accuracy is scalar tensor\n",
    "    return loss, accuracy\n",
    "\n",
    "@tf.function\n",
    "def test(model, x, y):\n",
    "    logits = model(x)\n",
    "    loss = compute_loss(logits, y)\n",
    "    accuracy = compute_accuracy(logits, y)\n",
    "    return loss, accuracy"
   ]
  },
  {
   "cell_type": "markdown",
   "metadata": {},
   "source": [
    "## 实际训练"
   ]
  },
  {
   "cell_type": "code",
   "execution_count": 28,
   "metadata": {},
   "outputs": [
    {
     "name": "stdout",
     "output_type": "stream",
     "text": [
      "epoch 0 : loss 2.3056855 ; accuracy 0.052816667\n",
      "epoch 1 : loss 2.305117 ; accuracy 0.055983335\n",
      "epoch 2 : loss 2.304549 ; accuracy 0.058683332\n",
      "epoch 3 : loss 2.3039813 ; accuracy 0.062016666\n",
      "epoch 4 : loss 2.3034143 ; accuracy 0.06525\n",
      "epoch 5 : loss 2.3028479 ; accuracy 0.06853333\n",
      "epoch 6 : loss 2.3022811 ; accuracy 0.07216667\n",
      "epoch 7 : loss 2.3017154 ; accuracy 0.07635\n",
      "epoch 8 : loss 2.3011498 ; accuracy 0.0806\n",
      "epoch 9 : loss 2.3005843 ; accuracy 0.084983334\n",
      "epoch 10 : loss 2.3000193 ; accuracy 0.09018333\n",
      "epoch 11 : loss 2.2994542 ; accuracy 0.09661666\n",
      "epoch 12 : loss 2.2988892 ; accuracy 0.1036\n",
      "epoch 13 : loss 2.298324 ; accuracy 0.11065\n",
      "epoch 14 : loss 2.297759 ; accuracy 0.119333334\n",
      "epoch 15 : loss 2.2971942 ; accuracy 0.12793334\n",
      "epoch 16 : loss 2.2966292 ; accuracy 0.13726667\n",
      "epoch 17 : loss 2.2960644 ; accuracy 0.1473\n",
      "epoch 18 : loss 2.2954988 ; accuracy 0.15891667\n",
      "epoch 19 : loss 2.2949333 ; accuracy 0.17045\n",
      "epoch 20 : loss 2.2943678 ; accuracy 0.18281667\n",
      "epoch 21 : loss 2.2938015 ; accuracy 0.19518334\n",
      "epoch 22 : loss 2.2932353 ; accuracy 0.20878333\n",
      "epoch 23 : loss 2.2926683 ; accuracy 0.22151667\n",
      "epoch 24 : loss 2.2921014 ; accuracy 0.23405\n",
      "epoch 25 : loss 2.291534 ; accuracy 0.24758333\n",
      "epoch 26 : loss 2.2909656 ; accuracy 0.26203334\n",
      "epoch 27 : loss 2.290397 ; accuracy 0.27461666\n",
      "epoch 28 : loss 2.2898276 ; accuracy 0.28805\n",
      "epoch 29 : loss 2.2892578 ; accuracy 0.3016\n",
      "epoch 30 : loss 2.288687 ; accuracy 0.3153\n",
      "epoch 31 : loss 2.2881157 ; accuracy 0.32776666\n",
      "epoch 32 : loss 2.2875438 ; accuracy 0.34055\n",
      "epoch 33 : loss 2.2869709 ; accuracy 0.35293335\n",
      "epoch 34 : loss 2.2863972 ; accuracy 0.36515\n",
      "epoch 35 : loss 2.2858229 ; accuracy 0.37626666\n",
      "epoch 36 : loss 2.285247 ; accuracy 0.3866\n",
      "epoch 37 : loss 2.2846706 ; accuracy 0.39635\n",
      "epoch 38 : loss 2.2840931 ; accuracy 0.40658334\n",
      "epoch 39 : loss 2.2835147 ; accuracy 0.41578335\n",
      "epoch 40 : loss 2.282935 ; accuracy 0.42481667\n",
      "epoch 41 : loss 2.282354 ; accuracy 0.4339\n",
      "epoch 42 : loss 2.2817724 ; accuracy 0.44296667\n",
      "epoch 43 : loss 2.281189 ; accuracy 0.45095\n",
      "epoch 44 : loss 2.2806044 ; accuracy 0.4581\n",
      "epoch 45 : loss 2.2800188 ; accuracy 0.46613333\n",
      "epoch 46 : loss 2.2794318 ; accuracy 0.47383332\n",
      "epoch 47 : loss 2.2788432 ; accuracy 0.48118332\n",
      "epoch 48 : loss 2.278253 ; accuracy 0.48843333\n",
      "epoch 49 : loss 2.2776618 ; accuracy 0.49403334\n",
      "test loss 2.276844 ; accuracy 0.5009\n"
     ]
    }
   ],
   "source": [
    "train_data, test_data = mnist_dataset()\n",
    "for epoch in range(50):\n",
    "    loss, accuracy = train_one_step(model, optimizer, \n",
    "                                    tf.constant(train_data[0], dtype=tf.float32), \n",
    "                                    tf.constant(train_data[1], dtype=tf.int64))\n",
    "    print('epoch', epoch, ': loss', loss.numpy(), '; accuracy', accuracy.numpy())\n",
    "loss, accuracy = test(model, \n",
    "                      tf.constant(test_data[0], dtype=tf.float32), \n",
    "                      tf.constant(test_data[1], dtype=tf.int64))\n",
    "\n",
    "print('test loss', loss.numpy(), '; accuracy', accuracy.numpy())"
   ]
  },
  {
   "cell_type": "code",
   "execution_count": null,
   "metadata": {},
   "outputs": [],
   "source": []
  },
  {
   "cell_type": "code",
   "execution_count": null,
   "metadata": {},
   "outputs": [],
   "source": []
  }
 ],
 "metadata": {
  "kernelspec": {
   "display_name": "Python 3",
   "language": "python",
   "name": "python3"
  },
  "language_info": {
   "codemirror_mode": {
    "name": "ipython",
    "version": 3
   },
   "file_extension": ".py",
   "mimetype": "text/x-python",
   "name": "python",
   "nbconvert_exporter": "python",
   "pygments_lexer": "ipython3",
   "version": "3.9.21"
  }
 },
 "nbformat": 4,
 "nbformat_minor": 2
}
